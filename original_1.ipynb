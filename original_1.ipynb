{
 "cells": [
  {
   "cell_type": "markdown",
   "id": "5cbc04f8",
   "metadata": {},
   "source": [
    "# Learning Part"
   ]
  },
  {
   "cell_type": "markdown",
   "id": "1348a0aa",
   "metadata": {},
   "source": [
    "## 1. What is the difference between dictionary[key] and dictionary[key].items( ) in python"
   ]
  },
  {
   "cell_type": "code",
   "execution_count": 19,
   "id": "5a650796",
   "metadata": {},
   "outputs": [
    {
     "name": "stdout",
     "output_type": "stream",
     "text": [
      "John\n",
      "25\n"
     ]
    }
   ],
   "source": [
    "# Example 1\n",
    "my_dict = {'name': 'John', 'age': 25, 'city': 'Seattle'}\n",
    "print(my_dict['name'])  # Output: John\n",
    "print(my_dict['age'])  # Output: 25\n",
    "\n",
    "# Example 2\n",
    "my_dict = {'name': 'John', 'age': 25, 'city': 'Seattle'}\n"
   ]
  },
  {
   "cell_type": "code",
   "execution_count": 17,
   "id": "c5c62a96",
   "metadata": {},
   "outputs": [
    {
     "ename": "AttributeError",
     "evalue": "'str' object has no attribute 'items'",
     "output_type": "error",
     "traceback": [
      "\u001b[0;31m---------------------------------------------------------------------------\u001b[0m",
      "\u001b[0;31mAttributeError\u001b[0m                            Traceback (most recent call last)",
      "Input \u001b[0;32mIn [17]\u001b[0m, in \u001b[0;36m<cell line: 1>\u001b[0;34m()\u001b[0m\n\u001b[0;32m----> 1\u001b[0m \u001b[38;5;28mprint\u001b[39m(\u001b[43mmy_dict\u001b[49m\u001b[43m[\u001b[49m\u001b[38;5;124;43m'\u001b[39;49m\u001b[38;5;124;43mname\u001b[39;49m\u001b[38;5;124;43m'\u001b[39;49m\u001b[43m]\u001b[49m\u001b[38;5;241;43m.\u001b[39;49m\u001b[43mitems\u001b[49m())\n",
      "\u001b[0;31mAttributeError\u001b[0m: 'str' object has no attribute 'items'"
     ]
    }
   ],
   "source": [
    "print(my_dict['name'].items())  # Output: AttributeError: 'str' object has no attribute 'items'\n"
   ]
  },
  {
   "cell_type": "code",
   "execution_count": 18,
   "id": "d4d62169",
   "metadata": {},
   "outputs": [
    {
     "name": "stdout",
     "output_type": "stream",
     "text": [
      "dict_items([('name', 'John'), ('age', 25), ('city', 'Seattle')])\n"
     ]
    }
   ],
   "source": [
    "print(my_dict.items())  # Output: dict_items([('name', 'John'), ('age', 25), ('city', 'Seattle')])"
   ]
  },
  {
   "cell_type": "markdown",
   "id": "f650a09f",
   "metadata": {},
   "source": [
    "## 2. pd.merge: \n",
    "\n",
    "- pd.merge() is a method in pandas that lets you do SQL type joins in pandas. You can combine dataframes using inner, left, right, outer joins. It is useful when the data for the analysis are not in one dataframe but spread across multiple dataframes\n",
    "- Inner join only return the matching rows between two tables and non matching rows gets eliminated.\n",
    "- Left join returns all the matching rows between both the tables as well as non matching rows from the left table."
   ]
  },
  {
   "cell_type": "code",
   "execution_count": 21,
   "id": "15c83937",
   "metadata": {},
   "outputs": [
    {
     "name": "stdout",
     "output_type": "stream",
     "text": [
      "  key  value\n",
      "0   A      1\n",
      "1   B      2\n",
      "2   C      3\n",
      "3   D      4\n",
      "  key  value_x  value_y\n",
      "0   B        2        5\n",
      "1   D        4        6\n"
     ]
    }
   ],
   "source": [
    "import pandas as pd\n",
    "\n",
    "df1 = pd.DataFrame({'key': ['A', 'B', 'C', 'D'],\n",
    "                    'value': [1, 2, 3, 4]})\n",
    "\n",
    "df2 = pd.DataFrame({'key': ['B', 'D', 'E', 'F'],\n",
    "                    'value': [5, 6, 7, 8]})\n",
    "print(df1)\n",
    "merged_df = pd.merge(df1, df2, on='key', how='inner')\n",
    "print(merged_df)"
   ]
  },
  {
   "cell_type": "markdown",
   "id": "55159e69",
   "metadata": {},
   "source": [
    "## 3. try and except block\n",
    "\n",
    "In Python, try and except blocks are used for error handling. The try block contains the code that might raise an exception, and the except block contains the code that will be executed if an exception is raised. Here is an example of how to use try and except blocks in Python to handle errors when dividing by zero:"
   ]
  },
  {
   "cell_type": "code",
   "execution_count": 23,
   "id": "d1f09ecb",
   "metadata": {},
   "outputs": [
    {
     "name": "stdout",
     "output_type": "stream",
     "text": [
      "You can't divide by zero!\n"
     ]
    }
   ],
   "source": [
    "try:\n",
    "    x = 5 / 0\n",
    "except ZeroDivisionError:\n",
    "    print(\"You can't divide by zero!\")"
   ]
  },
  {
   "cell_type": "code",
   "execution_count": 24,
   "id": "5184e8e1",
   "metadata": {},
   "outputs": [
    {
     "name": "stdout",
     "output_type": "stream",
     "text": [
      "Please enter a number: o\n",
      "You must enter a number!\n"
     ]
    }
   ],
   "source": [
    "try:\n",
    "    x = int(input(\"Please enter a number: \"))\n",
    "    y = 5 / x\n",
    "except ZeroDivisionError:\n",
    "    print(\"You can't divide by zero!\")\n",
    "except ValueError:\n",
    "    print(\"You must enter a number!\")"
   ]
  },
  {
   "cell_type": "markdown",
   "id": "58f94b1f",
   "metadata": {},
   "source": [
    "## 4. example of how to use the reset_index method in pandas:"
   ]
  },
  {
   "cell_type": "code",
   "execution_count": 2,
   "id": "851247b5",
   "metadata": {},
   "outputs": [
    {
     "name": "stdout",
     "output_type": "stream",
     "text": [
      "   index   name  age\n",
      "0      0   John   25\n",
      "1      1   Mike   30\n",
      "2      2  Sally   21\n",
      "3      3   Jane   18\n",
      "    name  age\n",
      "0   John   25\n",
      "1   Mike   30\n",
      "2  Sally   21\n",
      "3   Jane   18\n",
      "    name  age\n",
      "0   John   25\n",
      "1   Mike   30\n",
      "2  Sally   21\n",
      "3   Jane   18\n"
     ]
    }
   ],
   "source": [
    "import pandas as pd\n",
    "\n",
    "# create a sample dataframe\n",
    "data = {'name': ['John', 'Mike', 'Sally', 'Jane'],\n",
    "        'age': [25, 30, 21, 18],\n",
    "        'gender': ['M', 'M', 'F', 'F']}\n",
    "df = pd.DataFrame(data)\n",
    "\n",
    "# select columns\n",
    "cols = ['name', 'age']\n",
    "\n",
    "# reset index\n",
    "df1 = df[cols].reset_index(drop=False) # drop means remove the old index column\n",
    "df2=df[cols]\n",
    "df3 = df[cols].reset_index(drop= True)\n",
    "print(df1,df2,df3,sep='\\n')"
   ]
  },
  {
   "cell_type": "markdown",
   "id": "73060639",
   "metadata": {},
   "source": [
    "## 5. example of how to use the groupby method in pandas:"
   ]
  },
  {
   "cell_type": "code",
   "execution_count": 44,
   "id": "9e6f45ce",
   "metadata": {},
   "outputs": [
    {
     "name": "stdout",
     "output_type": "stream",
     "text": [
      "from\n",
      "A    [1, 3]\n",
      "B    [2, 4]\n",
      "C       [5]\n",
      "Name: refid, dtype: object\n"
     ]
    }
   ],
   "source": [
    "import pandas as pd\n",
    "\n",
    "# create a sample dataframe\n",
    "data = {'from': ['A', 'B', 'A', 'B', 'C'],\n",
    "        'refid': [1, 2, 3, 4, 5]}\n",
    "df = pd.DataFrame(data)\n",
    "\n",
    "# group by 'from' column and apply 'list' function to 'refid' column\n",
    "result = df.groupby('from')['refid'].apply(list)\n",
    "\n",
    "print(result)"
   ]
  },
  {
   "cell_type": "code",
   "execution_count": null,
   "id": "79615ed7",
   "metadata": {},
   "outputs": [],
   "source": [
    "jiushi"
   ]
  },
  {
   "cell_type": "code",
   "execution_count": null,
   "id": "47eb5555",
   "metadata": {},
   "outputs": [],
   "source": [
    "Sure. Here's an example of how to use TrustRank in Python:\n",
    "\n",
    "```python\n",
    "import networkx as nx\n",
    "\n",
    "def trust_rank(G, seed_set, alpha=0.85, max_iter=100, tol=1.0e-6):\n",
    "    # Initialize the scores of all nodes to 1\n",
    "    scores = dict.fromkeys(G.nodes(), 1.0)\n",
    "\n",
    "    # Initialize the scores of seed nodes to 0\n",
    "    for node in seed_set:\n",
    "        scores[node] = 0.0\n",
    "\n",
    "    # Iterate until convergence\n",
    "    for i in range(max_iter):\n",
    "        prev_scores = scores.copy()\n",
    "\n",
    "        # Update the score of each node\n",
    "        for node in G.nodes():\n",
    "            score = 0.0\n",
    "\n",
    "            # Calculate the score based on incoming edges\n",
    "            for neighbor in G.predecessors(node):\n",
    "                if neighbor in prev_scores:\n",
    "                    score += prev_scores[neighbor] / len(list(G.successors(neighbor)))\n",
    "\n",
    "            # Add the damping factor and the seed set bias\n",
    "            scores[node] = alpha * score + (1 - alpha) * (node in seed_set)\n",
    "\n",
    "        # Check for convergence\n",
    "        if sum(abs(scores[node] - prev_scores[node]) for node in G.nodes()) < tol:\n",
    "            break\n",
    "\n",
    "    return scores\n",
    "```\n",
    "\n",
    "This function takes a NetworkX graph `G`, a seed set of trusted nodes `seed_set`, and optional parameters `alpha`, `max_iter`, and `tol`. It returns a dictionary of TrustRank scores for each node in the graph.\n",
    "\n",
    "To use this function, you can create a NetworkX graph object and call the `trust_rank()` function with your desired parameters. For example:\n",
    "\n",
    "```python\n",
    "import networkx as nx\n",
    "\n",
    "# Create a graph object\n",
    "G = nx.DiGraph()\n",
    "\n",
    "# Add nodes and edges to the graph\n",
    "G.add_nodes_from([1, 2, 3])\n",
    "G.add_edges_from([(1, 2), (2, 3), (3, 1)])\n",
    "\n",
    "# Define the seed set of trusted nodes\n",
    "seed_set = [1]\n",
    "\n",
    "# Calculate the TrustRank scores\n",
    "scores = trust_rank(G, seed_set)\n",
    "\n",
    "# Print the scores\n",
    "print(scores)\n",
    "```\n",
    "\n",
    "This will output a dictionary of TrustRank scores for each node in the graph."
   ]
  },
  {
   "cell_type": "markdown",
   "id": "0026eb64",
   "metadata": {},
   "source": [
    "-------------------------------"
   ]
  },
  {
   "cell_type": "markdown",
   "id": "8ce0174f",
   "metadata": {},
   "source": [
    "# Libraries\n",
    "https://www.kaggle.com/code/ldegioanni/covid-19-papers-ranking/notebook#Part-I:-Data-Preparation"
   ]
  },
  {
   "cell_type": "code",
   "execution_count": 1,
   "id": "654205df",
   "metadata": {},
   "outputs": [],
   "source": [
    "#Basic Sandbox\n",
    "import os\n",
    "import json\n",
    "import pandas as pd\n",
    "import numpy as np\n",
    "\n",
    "import warnings\n",
    "warnings.filterwarnings(\"ignore\")\n",
    "\n",
    "#To generate a refid for each paper (dataset + bib_entries)\n",
    "import hashlib #for sha1\n",
    "\n",
    "#To build network and compute pagerank\n",
    "import networkx as nx\n",
    "import math as math\n",
    "\n",
    "#For Data viz\n",
    "import seaborn as sns\n",
    "import matplotlib.pyplot as plt\n",
    "\n",
    "from datetime import date\n",
    "from datetime import timedelta"
   ]
  },
  {
   "cell_type": "markdown",
   "id": "46fbc6bc",
   "metadata": {},
   "source": [
    "# Constants\n",
    "\n",
    "$P^{2}_{author}=(0.25)*P_{coauthornetwork}(author)+(0.75)*\\sum^{publication}{P_{citationnetwork}(pubilication)}$\n"
   ]
  },
  {
   "cell_type": "code",
   "execution_count": 2,
   "id": "e412146c",
   "metadata": {},
   "outputs": [],
   "source": [
    "#Weight parameters for Approach 2 and 3 :\n",
    "\n",
    "weights_InfluenceScore = [0.25, 0.25, 0.25, 0.25]"
   ]
  },
  {
   "cell_type": "markdown",
   "id": "37b4d3da",
   "metadata": {},
   "source": [
    "# 1. Load data"
   ]
  },
  {
   "cell_type": "markdown",
   "id": "6079d6b9",
   "metadata": {},
   "source": [
    "- os.walk()： **for directory tree** is a Python method that generates the file names in a directory tree by walking the tree either top-down or bottom-up. For each directory in the tree rooted at directory top (including top itself), it yields a 3-tuple (dirpath, dirnames, filenames)"
   ]
  },
  {
   "cell_type": "code",
   "execution_count": 3,
   "id": "69d155db",
   "metadata": {
    "scrolled": true
   },
   "outputs": [
    {
     "name": "stdout",
     "output_type": "stream",
     "text": [
      "Number of Files Loaded:  85371\n"
     ]
    }
   ],
   "source": [
    "#1. Get the data\n",
    "datafiles = []\n",
    "for dirname, _, filenames in os.walk('/Users/Shared/Files From e.localized/Singapore/Semester2/PC5253 Complex system modeling/PageRank/Kaggle/input'):\n",
    "    \n",
    "    for filename in filenames:\n",
    "            ifile = os.path.join(dirname, filename)\n",
    "            # datafiles: 存储json文件\n",
    "            if ifile.split(\".\")[-1] == \"json\":  \n",
    "                datafiles.append(ifile)\n",
    "            \n",
    "print(\"Number of Files Loaded: \", len(datafiles))\n"
   ]
  },
  {
   "cell_type": "code",
   "execution_count": 4,
   "id": "719f739d",
   "metadata": {},
   "outputs": [],
   "source": [
    "#Loading metadata csv file to get the publish time\n",
    "metadata = pd.read_csv(\"/Users/Shared/Files From e.localized/Singapore/Semester2/PC5253 Complex system modeling/PageRank//Kaggle/input/metadata_test1.csv\")\n"
   ]
  },
  {
   "cell_type": "markdown",
   "id": "7599d73b",
   "metadata": {},
   "source": [
    "- what is json file: JSON allows developers to store various data types as human-readable code, with the keys serving as names and the values containing related data "
   ]
  },
  {
   "cell_type": "code",
   "execution_count": 5,
   "id": "239cd570",
   "metadata": {},
   "outputs": [],
   "source": [
    "\n",
    "#2. Creating of the two DataFrames:\n",
    "#dfPaperList = df of Research Papers.. Variables: paper_id, paper_title, paper_authors\n",
    "#dfCitationsFlat = df of all the citations . Variables: citationsId, paperId (where the citation is made),refid, title, year\n",
    "\n",
    "authors = [] # paper id+ author name\n",
    "\n",
    "citationsFlat = []\n",
    "citationsCount = 0\n",
    "\n",
    "for file in datafiles:\n",
    "    with open(file,'r')as f:#opening a file in read mode\n",
    "        doc = json.load(f)#doc is a dictionary, json.loas()return dictionary object\n",
    "    paper_id = doc['paper_id']\n",
    "    \n",
    "    paper_authors = []\n",
    "\n",
    "    for value in doc['metadata']['authors']:\n",
    "        if len(doc['metadata']['authors']) == 0:\n",
    "            paper_authors.append(\"NA\")\n",
    "        else:\n",
    "            last = value[\"last\"]\n",
    "            first = value[\"first\"]#first name ; last name\n",
    "            paper_authors.append(first+\" \"+last)\n",
    "\n",
    "    authors.append({\"paper_id\": paper_id, \"authors\" : paper_authors})\n",
    "\n",
    "    for key,value in doc['bib_entries'].items():\n",
    "        refid = key\n",
    "        title = value['title'].lower()\n",
    "        year = value['year']\n",
    "        venue = value['venue'] \n",
    "        SHATitleCitation = hashlib.sha1(title.lower().encode()).hexdigest() #\n",
    "\n",
    "        if (len(title) == 0):\n",
    "            continue #there is noting we can do without any title\n",
    "\n",
    "        citationsFlat.append({\"citationId\":citationsCount,\\\n",
    "                          \"refid\" : SHATitleCitation,\\\n",
    "                          \"from\": paper_id,\\\n",
    "                          \"title\": title.lower(),\\\n",
    "                          \"year\": year})\n",
    "        citationsCount=citationsCount+1\n",
    "        \n",
    "#Conversion into DataFrame\n",
    "dfCitationsFlat = pd.DataFrame(citationsFlat)# citationsId, paperId (where the citation is made),refid, title, year\n",
    "authorsDf = pd.DataFrame(authors) # paper id+ author name\n",
    "\n",
    "metadata_extract = metadata[[\"sha\", \"title\", \"abstract\", \"publish_time\"]].rename(columns = {\"sha\" : \"paper_id\"})\n",
    "dfPaperList = pd.merge(metadata_extract, authorsDf, on = \"paper_id\", how = \"left\")\n",
    "# on the common column \"paper_id\" and use left join\n",
    "\n",
    "dfPaperList[\"year\"] = 0\n",
    "dfPaperList[\"refid\"] = \"\"\n",
    "\n",
    "for i in range(len(dfPaperList)):\n",
    "    \n",
    "    dfPaperList[\"refid\"][i] =  hashlib.sha1(str(dfPaperList[\"title\"][i]).lower().encode()).hexdigest()\n",
    "     #NB: We are building a custom identifier based on papers titles to ensure identification will be consistent between the papers in the Research Dataset and the papers extracted from the bib entries.\n",
    "     #Unfortunately a paperId is not present for citations and doi is not provided for the whole dataset but title seem to be present for ~98% of the dataset. To enable and ease indexing capabilities we are hashing with SHA   \n",
    "    dfPaperList[\"year\"][i] = str(dfPaperList[\"publish_time\"][i])[:4] # just want to get year\n",
    "    \n",
    "    try:\n",
    "        dfPaperList[\"authors\"][i] = dfPaperList[\"authors\"][i].split(\";\")\n",
    "    except:\n",
    "        continue\n",
    "        \n",
    "quotationPapersFreq = pd.DataFrame({\"refid\" : dfCitationsFlat[\"refid\"].value_counts().index, \n",
    "                       \"nbQuotations\" : dfCitationsFlat[\"title\"].value_counts().values}) \n",
    "\n",
    "paperToScore = pd.merge(dfPaperList,quotationPapersFreq, on = \"refid\", how = \"left\")\n",
    "paperToScore[\"nbQuotations\"] = paperToScore[\"nbQuotations\"].fillna(0)\n",
    "#This is a Python code snippet that fills the missing values in the nbQuotations column of the paperToScore dataframe with 0.\n",
    "\n",
    "\n",
    "#Adding list of references by papers according to the refid\n",
    "refList = pd.DataFrame({\"references\" : dfCitationsFlat.groupby('from')['refid'].apply(list)}) \n",
    "refList[\"paper_id\"] = refList.index; cols = [\"paper_id\",\"references\"] ; refList = refList[cols].reset_index(drop = True) #Reformatting the reflist by papers\n",
    "datasetForScoring = pd.merge(paperToScore, refList, how='left', on = 'paper_id').reset_index(drop = True)\n",
    "#This code is grouping the refid column of the dfCitationsFlat dataframe by the values in the from column and applying the list function to the resulting groups. The list function creates a list of all the refid values in each group.\n",
    "\n",
    "datasetForScoring = datasetForScoring[(datasetForScoring[\"authors\"].isna() == False)].reset_index(drop = True)"
   ]
  },
  {
   "cell_type": "code",
   "execution_count": 6,
   "id": "899bf4da",
   "metadata": {},
   "outputs": [],
   "source": [
    "#print(refList)"
   ]
  },
  {
   "cell_type": "code",
   "execution_count": 7,
   "id": "9c362945",
   "metadata": {},
   "outputs": [],
   "source": [
    "#type(doc)\n",
    "#print(doc['bib_entries'].items())"
   ]
  },
  {
   "cell_type": "code",
   "execution_count": 8,
   "id": "be4cc106",
   "metadata": {},
   "outputs": [
    {
     "name": "stdout",
     "output_type": "stream",
     "text": [
      "Number of Papers in the CORD-19 dataset : 1000\n",
      "Number of Citations found in the CORD-19 dataset : 4208974\n",
      "Citations with no title:  0\n",
      "Number of duplicated research paper titles:  0\n",
      "Number of duplicated citations titles:  2543820\n",
      "Number of Papers that will be scored:  927\n"
     ]
    },
    {
     "data": {
      "text/html": [
       "<div>\n",
       "<style scoped>\n",
       "    .dataframe tbody tr th:only-of-type {\n",
       "        vertical-align: middle;\n",
       "    }\n",
       "\n",
       "    .dataframe tbody tr th {\n",
       "        vertical-align: top;\n",
       "    }\n",
       "\n",
       "    .dataframe thead th {\n",
       "        text-align: right;\n",
       "    }\n",
       "</style>\n",
       "<table border=\"1\" class=\"dataframe\">\n",
       "  <thead>\n",
       "    <tr style=\"text-align: right;\">\n",
       "      <th></th>\n",
       "      <th>paper_id</th>\n",
       "      <th>title</th>\n",
       "      <th>abstract</th>\n",
       "      <th>publish_time</th>\n",
       "      <th>authors</th>\n",
       "      <th>year</th>\n",
       "      <th>refid</th>\n",
       "      <th>nbQuotations</th>\n",
       "      <th>references</th>\n",
       "    </tr>\n",
       "  </thead>\n",
       "  <tbody>\n",
       "    <tr>\n",
       "      <th>0</th>\n",
       "      <td>b2897e1277f56641193a6db73825f707eed3e4c9</td>\n",
       "      <td>Sequence requirements for RNA strand transfer ...</td>\n",
       "      <td>Nidovirus subgenomic mRNAs contain a leader se...</td>\n",
       "      <td>17/12/01</td>\n",
       "      <td>[Alexander Pasternak, Erwin Van Den Born, Will...</td>\n",
       "      <td>17/1</td>\n",
       "      <td>7890bdcde2bc48da8b35296ee38c3aa6e6a549c5</td>\n",
       "      <td>79.0</td>\n",
       "      <td>[63f53cf95376af6f781ae6c60df4887012432de5, 02c...</td>\n",
       "    </tr>\n",
       "    <tr>\n",
       "      <th>1</th>\n",
       "      <td>e3d0d482ebd9a8ba81c254cc433f314142e72174</td>\n",
       "      <td>Crystal structure of murine sCEACAM1a[1,4]: a ...</td>\n",
       "      <td>CEACAM1 is a member of the carcinoembryonic an...</td>\n",
       "      <td>1/5/02</td>\n",
       "      <td>[Kemin Tan, Bruce Zelus, Rob Meijers, Jin-Huan...</td>\n",
       "      <td>1/5/</td>\n",
       "      <td>9555d93a1e7d86c279a9cb7f40e1935ac998cb00</td>\n",
       "      <td>54.0</td>\n",
       "      <td>[10e50d9f52a7b77e7d89559892a5898a5a202feb, 736...</td>\n",
       "    </tr>\n",
       "    <tr>\n",
       "      <th>2</th>\n",
       "      <td>00b1d99e70f779eb4ede50059db469c65e8c1469</td>\n",
       "      <td>Synthesis of a novel hepatitis C virus protein...</td>\n",
       "      <td>Hepatitis C virus (HCV) is an important human ...</td>\n",
       "      <td>16/7/01</td>\n",
       "      <td>[Zhenming Xu, Jinah Choi, T Yen, Wen Lu, Anne ...</td>\n",
       "      <td>16/7</td>\n",
       "      <td>592f6ad0e68ffa8c56a5cd5d2eb673bf092b02b3</td>\n",
       "      <td>7.0</td>\n",
       "      <td>[11e6080d95677abd1aa156897750ce06c626df43, c35...</td>\n",
       "    </tr>\n",
       "    <tr>\n",
       "      <th>3</th>\n",
       "      <td>cf584e00f637cbd8f1bb35f3f09f5ed07b71aeb0</td>\n",
       "      <td>Structure of coronavirus main proteinase revea...</td>\n",
       "      <td>The key enzyme in coronavirus polyprotein proc...</td>\n",
       "      <td>1/7/02</td>\n",
       "      <td>[Kanchan Anand, Gottfried Palm, Jeroen Mesters...</td>\n",
       "      <td>1/7/</td>\n",
       "      <td>e43c6349fbc852481ee6c51063ea31b5bd425938</td>\n",
       "      <td>0.0</td>\n",
       "      <td>[65886aa952fa05a113ca27ed8334a3adad3a4aa0, a9a...</td>\n",
       "    </tr>\n",
       "    <tr>\n",
       "      <th>4</th>\n",
       "      <td>dde02f11923815e6a16a31dd6298c46b109c5dfa</td>\n",
       "      <td>Discontinuous and non-discontinuous subgenomic...</td>\n",
       "      <td>Arteri-, corona-, toro- and roniviruses are ev...</td>\n",
       "      <td>1/12/02</td>\n",
       "      <td>[A Van Vliet, S Smits, P Rottier, R De Groot]</td>\n",
       "      <td>1/12</td>\n",
       "      <td>72afbd0f45b04dc7c0bee89367a3d9813715e675</td>\n",
       "      <td>46.0</td>\n",
       "      <td>[5d21964ac803893c1f15f6a32e740b94380a3199, cc9...</td>\n",
       "    </tr>\n",
       "  </tbody>\n",
       "</table>\n",
       "</div>"
      ],
      "text/plain": [
       "                                   paper_id  \\\n",
       "0  b2897e1277f56641193a6db73825f707eed3e4c9   \n",
       "1  e3d0d482ebd9a8ba81c254cc433f314142e72174   \n",
       "2  00b1d99e70f779eb4ede50059db469c65e8c1469   \n",
       "3  cf584e00f637cbd8f1bb35f3f09f5ed07b71aeb0   \n",
       "4  dde02f11923815e6a16a31dd6298c46b109c5dfa   \n",
       "\n",
       "                                               title  \\\n",
       "0  Sequence requirements for RNA strand transfer ...   \n",
       "1  Crystal structure of murine sCEACAM1a[1,4]: a ...   \n",
       "2  Synthesis of a novel hepatitis C virus protein...   \n",
       "3  Structure of coronavirus main proteinase revea...   \n",
       "4  Discontinuous and non-discontinuous subgenomic...   \n",
       "\n",
       "                                            abstract publish_time  \\\n",
       "0  Nidovirus subgenomic mRNAs contain a leader se...     17/12/01   \n",
       "1  CEACAM1 is a member of the carcinoembryonic an...       1/5/02   \n",
       "2  Hepatitis C virus (HCV) is an important human ...      16/7/01   \n",
       "3  The key enzyme in coronavirus polyprotein proc...       1/7/02   \n",
       "4  Arteri-, corona-, toro- and roniviruses are ev...      1/12/02   \n",
       "\n",
       "                                             authors  year  \\\n",
       "0  [Alexander Pasternak, Erwin Van Den Born, Will...  17/1   \n",
       "1  [Kemin Tan, Bruce Zelus, Rob Meijers, Jin-Huan...  1/5/   \n",
       "2  [Zhenming Xu, Jinah Choi, T Yen, Wen Lu, Anne ...  16/7   \n",
       "3  [Kanchan Anand, Gottfried Palm, Jeroen Mesters...  1/7/   \n",
       "4      [A Van Vliet, S Smits, P Rottier, R De Groot]  1/12   \n",
       "\n",
       "                                      refid  nbQuotations  \\\n",
       "0  7890bdcde2bc48da8b35296ee38c3aa6e6a549c5          79.0   \n",
       "1  9555d93a1e7d86c279a9cb7f40e1935ac998cb00          54.0   \n",
       "2  592f6ad0e68ffa8c56a5cd5d2eb673bf092b02b3           7.0   \n",
       "3  e43c6349fbc852481ee6c51063ea31b5bd425938           0.0   \n",
       "4  72afbd0f45b04dc7c0bee89367a3d9813715e675          46.0   \n",
       "\n",
       "                                          references  \n",
       "0  [63f53cf95376af6f781ae6c60df4887012432de5, 02c...  \n",
       "1  [10e50d9f52a7b77e7d89559892a5898a5a202feb, 736...  \n",
       "2  [11e6080d95677abd1aa156897750ce06c626df43, c35...  \n",
       "3  [65886aa952fa05a113ca27ed8334a3adad3a4aa0, a9a...  \n",
       "4  [5d21964ac803893c1f15f6a32e740b94380a3199, cc9...  "
      ]
     },
     "execution_count": 8,
     "metadata": {},
     "output_type": "execute_result"
    }
   ],
   "source": [
    "#3. A few stats regarding number of papers loaded\n",
    "\n",
    "print(\"Number of Papers in the CORD-19 dataset :\",dfPaperList.shape[0])\n",
    "#(05/14/2020) Number of Papers in the covid dataset : 63,571\n",
    "\n",
    "print(\"Number of Citations found in the CORD-19 dataset :\",dfCitationsFlat.shape[0])\n",
    "#(05/14/2020) Number of Citations made in the covid dataset : 4,208,974\n",
    "\n",
    "print(\"Citations with no title: \",sum(1 if x == \"\" else 0 for x in dfCitationsFlat[\"title\"]))\n",
    "#(05/14/2020) Citations with no title:  0\n",
    "\n",
    "#How many duplicates? \n",
    "print(\"Number of duplicated research paper titles: \",len(dfPaperList[\"title\"])-len(dfPaperList[\"title\"].drop_duplicates()))\n",
    "#(05/14/2020) Number of duplicated research paper titles:  1,421\n",
    "\n",
    "print(\"Number of duplicated citations titles: \",len(dfCitationsFlat[\"title\"])-len(dfCitationsFlat[\"title\"].drop_duplicates()))\n",
    "#(05/14/2020) Number of duplicated citations titles:  2,543,820\n",
    "\n",
    "#Dataframe Visualization\n",
    "print(\"Number of Papers that will be scored: \", datasetForScoring.shape[0])\n",
    "datasetForScoring.head()"
   ]
  },
  {
   "cell_type": "markdown",
   "id": "07f0334d",
   "metadata": {},
   "source": [
    "# 2 Computation of Author Scoring and Publication pagerank"
   ]
  },
  {
   "cell_type": "code",
   "execution_count": 9,
   "id": "4e08be89",
   "metadata": {},
   "outputs": [],
   "source": [
    "'''1. Creating an author dataset + Computation of the author page rank using an author network'''\n",
    "\n",
    "#Variables for author dataset: id, name, co-authors, number of points linked to quotations, paper_count, citations, average citations,co_author_avg_citations,h-index\n",
    "\n",
    "author_data = {}\n",
    "author_id = {\n",
    "    'start': 1,\n",
    "    'curr': 1\n",
    "}\n",
    "\n",
    "assigned_ids = {}\n",
    "\n",
    "def create_author_data(train_data, author_data, author_id, assigned_ids):\n",
    "    for i in range(len(train_data)):\n",
    "        authors = train_data.authors[i]\n",
    "        #This code is accessing the i-th element of the nbQuotations list of the train_data object.\n",
    "    \n",
    "        try:\n",
    "            citations = train_data.nbQuotations[i]/len(authors) #Number of times a paper have been quoted divided by len authors\n",
    "        except:\n",
    "            continue\n",
    "\n",
    "        for author in authors:\n",
    "            names = author.split(' ')\n",
    "            unique_name = names[0] + \"_\" + names[len(names)-1]\n",
    "            if unique_name not in author_data:\n",
    "                author_data[unique_name] = {\n",
    "                    'num_citations': citations,\n",
    "                    'paper_count': 1,\n",
    "                    'name': unique_name,\n",
    "                    'author_id': author_id['curr'],\n",
    "                    'co_authors': {},\n",
    "                    'citations': [train_data.nbQuotations[i]]\n",
    "                }\n",
    "                assigned_ids[unique_name] = author_id['curr']\n",
    "                author_id['curr'] += 1\n",
    "\n",
    "            else:\n",
    "                author_data[unique_name]['num_citations'] += citations\n",
    "                author_data[unique_name]['paper_count'] += 1\n",
    "                author_data[unique_name]['citations'].append(train_data.nbQuotations[i])\n",
    "\n",
    "            for co_author in authors:\n",
    "                co_author_names = co_author.split(' ')\n",
    "                co_author_unique_name = co_author_names[0] + \"_\" + co_author_names[len(co_author_names)-1]\n",
    "                if co_author_unique_name != unique_name:\n",
    "                    author_data[unique_name]['co_authors'][co_author_unique_name] = 1\n",
    "                        \n",
    "            \n",
    "            \n",
    "# call for each data file\n",
    "create_author_data(datasetForScoring, author_data, author_id, assigned_ids)\n",
    "\n",
    "# add average citations\n",
    "for data in author_data:\n",
    "    author_data[data]['average_citations'] = author_data[data]['num_citations'] / author_data[data]['paper_count']\n",
    "    \n",
    "# adding h-index\n",
    "def get_h_index(citations):\n",
    "    return ([0] + [i + 1 for i, c in enumerate(sorted(citations, reverse = True)) if c >= i + 1])[-1]\n",
    "\n",
    "data_to_df = []\n",
    "for data in author_data:\n",
    "    each_author = author_data[data]\n",
    "    co_authors = each_author['co_authors']\n",
    "    co_author_ids = []\n",
    "    co_author_avg_citations = 0\n",
    "    for co_author in co_authors:\n",
    "        co_author_avg_citations += author_data[co_author]['average_citations']\n",
    "        co_author_ids.append(assigned_ids[co_author])\n",
    "    each_author['co_authors'] = co_author_ids\n",
    "    each_author['co_author_avg_citations'] = co_author_avg_citations/len(co_author_ids) if len(co_author_ids) != 0 else 0\n",
    "    data_to_df.append(each_author)\n",
    "    \n",
    "authorsData = pd.DataFrame.from_dict(data_to_df, orient='columns')\n",
    "#h_index\n",
    "authorsData['h_index'] = authorsData.apply(lambda x: get_h_index(x.citations), axis=1)"
   ]
  },
  {
   "cell_type": "markdown",
   "id": "bf55ab25",
   "metadata": {},
   "source": [
    "### 2. Computation of authors page rank\n",
    "\n",
    "the explanation of How can I convert a Pandas DataFrame to a Python dictionary using the to_dict method: https://blog.gitnux.com/code/pandas-to_dict/"
   ]
  },
  {
   "cell_type": "code",
   "execution_count": 10,
   "id": "bb555f75",
   "metadata": {},
   "outputs": [],
   "source": [
    "\n",
    "'''AUTHOR PAGE RANK'''\n",
    "\n",
    "#Data Pre-processing: building the dataset on which the author network will be built\n",
    "train = authorsData.copy().drop(columns=['num_citations', 'h_index','paper_count', 'citations']).dropna(axis = 0, subset=['co_authors'])\n",
    "train = train[train.co_authors != '[]']\n",
    "train['author_id'] = pd.to_numeric(train['author_id'])\n",
    "train.head()\n",
    "\n",
    "# Building up the network to compute author page rank: \n",
    "G = nx.Graph()\n",
    "for i in range(len(train)):\n",
    "    auth = train.iloc[i]['author_id']\n",
    "    for neighbor in train.iloc[i]['co_authors']:\n",
    "        if G.has_edge(auth, neighbor):\n",
    "            G.add_edge(auth, neighbor, weight = G[auth][neighbor]['weight']+1)\n",
    "        else:\n",
    "            G.add_edge(auth, neighbor, weight = 1)\n",
    "            \n"
   ]
  },
  {
   "cell_type": "markdown",
   "id": "b6a0b413",
   "metadata": {},
   "source": [
    "### Pagerank method"
   ]
  },
  {
   "cell_type": "code",
   "execution_count": 11,
   "id": "4526a35f",
   "metadata": {},
   "outputs": [],
   "source": [
    "#alpha?\n",
    "# Put pagerank data into a dictionary: {ID:PR_value}            \n",
    "score_authors = nx.pagerank(G, alpha=0.55, max_iter=100, tol=1.0e-6, nstart=None, weight='weight', dangling=None)\n",
    "#--------------------------------------------------------------------------\n",
    "#max_iter: maxmum number of iteration to run; tol: tolerance of convergence; \n",
    "#nstart: which means that each node is assumed to have an equal probability of being visited at the start of the random walk. \n",
    "#weight; which means that edge weights are used in the calculation of PageRank scores. \n",
    "#dangling=none: nodes with no outgoing edges are assumed to have an equal probability of transitioning to any other node in the graph\n",
    "#m={k: score_authors[k] for k in list(score_authors)[:3]}\n",
    "#print(m)\n",
    "#-------------------------------------------------------------------------\n"
   ]
  },
  {
   "cell_type": "code",
   "execution_count": 12,
   "id": "2f7e4190",
   "metadata": {},
   "outputs": [
    {
     "data": {
      "text/plain": [
       "dict"
      ]
     },
     "execution_count": 12,
     "metadata": {},
     "output_type": "execute_result"
    }
   ],
   "source": [
    "type(score_authors)\n",
    "#score_authors[k] for k in list(score_authors)\n",
    "#print(list(score_authors.values()))"
   ]
  },
  {
   "cell_type": "markdown",
   "id": "b2e7e5aa",
   "metadata": {},
   "source": [
    "### Trustrank method"
   ]
  },
  {
   "cell_type": "code",
   "execution_count": 13,
   "id": "9e517cfb",
   "metadata": {},
   "outputs": [],
   "source": [
    "authorPRK = pd.DataFrame.from_dict(score_authors, orient = \"index\")\n",
    "# The orient parameter is set to \"index\" to indicate that the keys of the dictionary should be used as the row labels of the DataFrame.\n",
    "#print(authorPRK.head(10))\n",
    "#num_rows=authorPRK.shape\n",
    "#print(num_rows)\n",
    "\n",
    "#plt.hist(R,bins=100,density=1)"
   ]
  },
  {
   "cell_type": "code",
   "execution_count": 14,
   "id": "d3eb7a7e",
   "metadata": {},
   "outputs": [],
   "source": [
    "data = authorPRK.values.tolist()\n",
    "#print(data[:100])\n"
   ]
  },
  {
   "cell_type": "code",
   "execution_count": 15,
   "id": "0fd86af3",
   "metadata": {},
   "outputs": [],
   "source": [
    "#Saving the page rank by author id\n",
    "authorPRK = pd.DataFrame.from_dict(score_authors, orient = \"index\")\n",
    "#print(authorPRK.index)\n",
    "#print(authorPRK)\n",
    "authorPRK[\"author_id\"] = authorPRK.index\n",
    "authorPRK.columns = [\"pagerank_author\", \"author_id\"]\n",
    "#Put page rank value into a csv\n",
    "authorPRK.to_csv(\"pagerank_author.csv\",index = False)\n"
   ]
  },
  {
   "cell_type": "markdown",
   "id": "8ba05127",
   "metadata": {},
   "source": [
    "### 3. Computation of publication page rank"
   ]
  },
  {
   "cell_type": "code",
   "execution_count": 16,
   "id": "5b42bc47",
   "metadata": {},
   "outputs": [],
   "source": [
    "'''Computation of publication page rank'''\n",
    "\n",
    "# Building up the network to compute the pagerank for publication\n",
    "G1 = nx.Graph()\n",
    "for i in range(len(datasetForScoring)):\n",
    "# for i in range(100): #Only on a sample\n",
    "    G1.add_node(datasetForScoring['refid'][i])\n",
    "    auth = datasetForScoring['refid'][i]\n",
    "    \n",
    "    for e in list(str(datasetForScoring[\"references\"][i]).lstrip(\"[\").rstrip(\"]\").replace(\" \",\"\").split(\",\")):\n",
    "        try:\n",
    "            if G1.has_edge(auth, e):\n",
    "                G1.add_edge(auth, e, weight = G[auth][e]['weight']+1)\n",
    "            else:\n",
    "                G1.add_edge(auth, e, weight = 1)\n",
    "        except:\n",
    "            continue\n",
    "        \n",
    "score_publication = nx.pagerank(G1, alpha=0.85, tol=1.0e-6, nstart=None, weight=1, dangling=None)\n",
    "\n",
    "#Saving the page rank by paper id\n",
    "publiPRK = pd.DataFrame.from_dict(score_publication, orient = \"index\")\n",
    "publiPRK[\"publication_id\"] = publiPRK.index\n",
    "publiPRK.columns = [\"pageRankPublication\", \"publication_id\"]\n",
    "publiPRK[\"publication_id\"] = publiPRK[\"publication_id\"].str.replace(\"'\",\"\")\n",
    "publiPRK = publiPRK.reset_index(drop = True)\n",
    "\n",
    "publiPRK.to_csv(\"pagerank_publication.csv\",index = False)\n",
    "\n",
    "#Integration of the variable Page Rank for publication datasetForScoring\n",
    "enhancedDatasetForScoring = pd.merge(datasetForScoring,publiPRK, left_on = \"refid\", right_on = \"publication_id\", how = \"left\").drop(columns= [\"publication_id\"])\n",
    "enhancedDatasetForScoring = enhancedDatasetForScoring.drop_duplicates(subset='refid', keep=\"last\") #Temporary patch to manage the case where twice Page rank for some publications"
   ]
  },
  {
   "cell_type": "markdown",
   "id": "e8c73bd3",
   "metadata": {},
   "source": [
    "### 4. Computation of Author Scoring"
   ]
  },
  {
   "cell_type": "code",
   "execution_count": 17,
   "id": "68cc438f",
   "metadata": {},
   "outputs": [],
   "source": [
    "\n",
    "\n",
    "#Dataset to consolidate Author Page Rank and Publication Rank in a way to compute authorP2\n",
    "dfAuthorP2 = pd.merge(authorsData[[\"author_id\",\"name\"]],authorPRK, on = \"author_id\", how = \"left\").reset_index(drop=True)\n",
    "dfAuthorP2[\"name\"] = dfAuthorP2[\"name\"].str.replace(\"_\",\" \")\n",
    "\n",
    "# Extract enhancedDatasetForScoring \"paper_refid\" &\"paper_authors\"\n",
    "authorsfromDf = enhancedDatasetForScoring[[\"refid\",\"authors\"]].reset_index(drop = True)\n",
    "# authorsfromDf = authorsfromDf[(authorsfromDf[\"authors\"].isna() == False)]\n",
    "authorsfromDf = pd.DataFrame(authorsfromDf.authors.tolist(), index = authorsfromDf.refid).stack().reset_index(level=1, drop=True).reset_index(name='authors')[['authors','refid']]\n",
    "\n",
    "#Computing the sum of publication page rank for each paper\n",
    "dfAuthorP2withPRPubli = pd.merge(authorsfromDf,publiPRK, left_on = \"refid\", right_on = \"publication_id\", how = \"left\").drop(columns = [\"refid\", \"publication_id\"]).groupby(\"authors\").sum()\n",
    "dfAuthorP2withPRPubli[\"authors\"] = dfAuthorP2withPRPubli.index #Reformatting\n",
    "dfAuthorP2withPRPubli = dfAuthorP2withPRPubli.reset_index(drop=True)\n",
    "\n",
    "dfAuthorP2Final = pd.merge(dfAuthorP2,dfAuthorP2withPRPubli, left_on = \"name\", right_on = \"authors\", how = \"left\").drop(columns = \"name\")\n",
    "\n",
    "# ######### Author Scoring #########\n",
    "dfAuthorP2Final[\"pagerank_author_norm\"] = (dfAuthorP2Final[\"pagerank_author\"]-dfAuthorP2Final[\"pagerank_author\"].mean())/dfAuthorP2Final[\"pagerank_author\"].std()\n",
    "dfAuthorP2Final[\"pagerank_publication_norm\"] = (dfAuthorP2Final[\"pageRankPublication\"]-dfAuthorP2Final[\"pageRankPublication\"].mean())/dfAuthorP2Final[\"pageRankPublication\"].std()\n",
    "\n",
    "dfAuthorP2Final[\"authorP2\"] = 0.25*dfAuthorP2Final[\"pagerank_author_norm\"] + 0.75*dfAuthorP2Final[\"pagerank_publication_norm\"]\n"
   ]
  },
  {
   "cell_type": "markdown",
   "id": "218c6073",
   "metadata": {},
   "source": [
    "# 3. Influence Score consolidation for all the subset Research Papers"
   ]
  },
  {
   "cell_type": "code",
   "execution_count": 18,
   "id": "94d83b40",
   "metadata": {},
   "outputs": [
    {
     "data": {
      "text/html": [
       "<div>\n",
       "<style scoped>\n",
       "    .dataframe tbody tr th:only-of-type {\n",
       "        vertical-align: middle;\n",
       "    }\n",
       "\n",
       "    .dataframe tbody tr th {\n",
       "        vertical-align: top;\n",
       "    }\n",
       "\n",
       "    .dataframe thead th {\n",
       "        text-align: right;\n",
       "    }\n",
       "</style>\n",
       "<table border=\"1\" class=\"dataframe\">\n",
       "  <thead>\n",
       "    <tr style=\"text-align: right;\">\n",
       "      <th></th>\n",
       "      <th>paper_id</th>\n",
       "      <th>title</th>\n",
       "      <th>abstract</th>\n",
       "      <th>publish_time</th>\n",
       "      <th>authors</th>\n",
       "      <th>year</th>\n",
       "      <th>refid</th>\n",
       "      <th>nbQuotations</th>\n",
       "      <th>references</th>\n",
       "      <th>pageRankPublication</th>\n",
       "      <th>authorP2</th>\n",
       "    </tr>\n",
       "  </thead>\n",
       "  <tbody>\n",
       "    <tr>\n",
       "      <th>0</th>\n",
       "      <td>b2897e1277f56641193a6db73825f707eed3e4c9</td>\n",
       "      <td>Sequence requirements for RNA strand transfer ...</td>\n",
       "      <td>Nidovirus subgenomic mRNAs contain a leader se...</td>\n",
       "      <td>17/12/01</td>\n",
       "      <td>[Alexander Pasternak, Erwin Van Den Born, Will...</td>\n",
       "      <td>17/1</td>\n",
       "      <td>7890bdcde2bc48da8b35296ee38c3aa6e6a549c5</td>\n",
       "      <td>79.0</td>\n",
       "      <td>[63f53cf95376af6f781ae6c60df4887012432de5, 02c...</td>\n",
       "      <td>0.000022</td>\n",
       "      <td>2.579911</td>\n",
       "    </tr>\n",
       "    <tr>\n",
       "      <th>1</th>\n",
       "      <td>e3d0d482ebd9a8ba81c254cc433f314142e72174</td>\n",
       "      <td>Crystal structure of murine sCEACAM1a[1,4]: a ...</td>\n",
       "      <td>CEACAM1 is a member of the carcinoembryonic an...</td>\n",
       "      <td>1/5/02</td>\n",
       "      <td>[Kemin Tan, Bruce Zelus, Rob Meijers, Jin-Huan...</td>\n",
       "      <td>1/5/</td>\n",
       "      <td>9555d93a1e7d86c279a9cb7f40e1935ac998cb00</td>\n",
       "      <td>54.0</td>\n",
       "      <td>[10e50d9f52a7b77e7d89559892a5898a5a202feb, 736...</td>\n",
       "      <td>0.000050</td>\n",
       "      <td>3.101349</td>\n",
       "    </tr>\n",
       "    <tr>\n",
       "      <th>2</th>\n",
       "      <td>00b1d99e70f779eb4ede50059db469c65e8c1469</td>\n",
       "      <td>Synthesis of a novel hepatitis C virus protein...</td>\n",
       "      <td>Hepatitis C virus (HCV) is an important human ...</td>\n",
       "      <td>16/7/01</td>\n",
       "      <td>[Zhenming Xu, Jinah Choi, T Yen, Wen Lu, Anne ...</td>\n",
       "      <td>16/7</td>\n",
       "      <td>592f6ad0e68ffa8c56a5cd5d2eb673bf092b02b3</td>\n",
       "      <td>7.0</td>\n",
       "      <td>[11e6080d95677abd1aa156897750ce06c626df43, c35...</td>\n",
       "      <td>0.000324</td>\n",
       "      <td>-0.363214</td>\n",
       "    </tr>\n",
       "    <tr>\n",
       "      <th>3</th>\n",
       "      <td>cf584e00f637cbd8f1bb35f3f09f5ed07b71aeb0</td>\n",
       "      <td>Structure of coronavirus main proteinase revea...</td>\n",
       "      <td>The key enzyme in coronavirus polyprotein proc...</td>\n",
       "      <td>1/7/02</td>\n",
       "      <td>[Kanchan Anand, Gottfried Palm, Jeroen Mesters...</td>\n",
       "      <td>1/7/</td>\n",
       "      <td>e43c6349fbc852481ee6c51063ea31b5bd425938</td>\n",
       "      <td>0.0</td>\n",
       "      <td>[65886aa952fa05a113ca27ed8334a3adad3a4aa0, a9a...</td>\n",
       "      <td>0.000576</td>\n",
       "      <td>3.593804</td>\n",
       "    </tr>\n",
       "    <tr>\n",
       "      <th>4</th>\n",
       "      <td>dde02f11923815e6a16a31dd6298c46b109c5dfa</td>\n",
       "      <td>Discontinuous and non-discontinuous subgenomic...</td>\n",
       "      <td>Arteri-, corona-, toro- and roniviruses are ev...</td>\n",
       "      <td>1/12/02</td>\n",
       "      <td>[A Van Vliet, S Smits, P Rottier, R De Groot]</td>\n",
       "      <td>1/12</td>\n",
       "      <td>72afbd0f45b04dc7c0bee89367a3d9813715e675</td>\n",
       "      <td>46.0</td>\n",
       "      <td>[5d21964ac803893c1f15f6a32e740b94380a3199, cc9...</td>\n",
       "      <td>0.000014</td>\n",
       "      <td>0.039146</td>\n",
       "    </tr>\n",
       "  </tbody>\n",
       "</table>\n",
       "</div>"
      ],
      "text/plain": [
       "                                   paper_id  \\\n",
       "0  b2897e1277f56641193a6db73825f707eed3e4c9   \n",
       "1  e3d0d482ebd9a8ba81c254cc433f314142e72174   \n",
       "2  00b1d99e70f779eb4ede50059db469c65e8c1469   \n",
       "3  cf584e00f637cbd8f1bb35f3f09f5ed07b71aeb0   \n",
       "4  dde02f11923815e6a16a31dd6298c46b109c5dfa   \n",
       "\n",
       "                                               title  \\\n",
       "0  Sequence requirements for RNA strand transfer ...   \n",
       "1  Crystal structure of murine sCEACAM1a[1,4]: a ...   \n",
       "2  Synthesis of a novel hepatitis C virus protein...   \n",
       "3  Structure of coronavirus main proteinase revea...   \n",
       "4  Discontinuous and non-discontinuous subgenomic...   \n",
       "\n",
       "                                            abstract publish_time  \\\n",
       "0  Nidovirus subgenomic mRNAs contain a leader se...     17/12/01   \n",
       "1  CEACAM1 is a member of the carcinoembryonic an...       1/5/02   \n",
       "2  Hepatitis C virus (HCV) is an important human ...      16/7/01   \n",
       "3  The key enzyme in coronavirus polyprotein proc...       1/7/02   \n",
       "4  Arteri-, corona-, toro- and roniviruses are ev...      1/12/02   \n",
       "\n",
       "                                             authors  year  \\\n",
       "0  [Alexander Pasternak, Erwin Van Den Born, Will...  17/1   \n",
       "1  [Kemin Tan, Bruce Zelus, Rob Meijers, Jin-Huan...  1/5/   \n",
       "2  [Zhenming Xu, Jinah Choi, T Yen, Wen Lu, Anne ...  16/7   \n",
       "3  [Kanchan Anand, Gottfried Palm, Jeroen Mesters...  1/7/   \n",
       "4      [A Van Vliet, S Smits, P Rottier, R De Groot]  1/12   \n",
       "\n",
       "                                      refid  nbQuotations  \\\n",
       "0  7890bdcde2bc48da8b35296ee38c3aa6e6a549c5          79.0   \n",
       "1  9555d93a1e7d86c279a9cb7f40e1935ac998cb00          54.0   \n",
       "2  592f6ad0e68ffa8c56a5cd5d2eb673bf092b02b3           7.0   \n",
       "3  e43c6349fbc852481ee6c51063ea31b5bd425938           0.0   \n",
       "4  72afbd0f45b04dc7c0bee89367a3d9813715e675          46.0   \n",
       "\n",
       "                                          references  pageRankPublication  \\\n",
       "0  [63f53cf95376af6f781ae6c60df4887012432de5, 02c...             0.000022   \n",
       "1  [10e50d9f52a7b77e7d89559892a5898a5a202feb, 736...             0.000050   \n",
       "2  [11e6080d95677abd1aa156897750ce06c626df43, c35...             0.000324   \n",
       "3  [65886aa952fa05a113ca27ed8334a3adad3a4aa0, a9a...             0.000576   \n",
       "4  [5d21964ac803893c1f15f6a32e740b94380a3199, cc9...             0.000014   \n",
       "\n",
       "   authorP2  \n",
       "0  2.579911  \n",
       "1  3.101349  \n",
       "2 -0.363214  \n",
       "3  3.593804  \n",
       "4  0.039146  "
      ]
     },
     "execution_count": 18,
     "metadata": {},
     "output_type": "execute_result"
    }
   ],
   "source": [
    "#1. Data Preparation\n",
    "\n",
    "    # Consolidate Author Score for each paper\n",
    "authorP2Data = dfAuthorP2Final[[\"authors\",\"authorP2\"]]\n",
    "# enhancedDatasetForScoring = enhancedDatasetForScoring[(enhancedDatasetForScoring[\"authors\"].isna() == False)]\n",
    "authorToPaper = pd.DataFrame(enhancedDatasetForScoring[[\"refid\",\"authors\"]].authors.tolist(), index=enhancedDatasetForScoring[[\"refid\",\"authors\"]].refid).stack().reset_index(level=1, drop=True).reset_index(name='authors')[['authors','refid']]\n",
    "\n",
    "authorP2Conso = pd.merge(authorToPaper,authorP2Data, on = \"authors\", how = \"left\")\n",
    "\n",
    "# Consolidate AuthorP2 for each paper as followed: 0.5 * Max page rank + 0.5 * average of the page rank of all the authors\n",
    "maxAuthorScore = authorP2Conso.groupby('refid').agg({'authorP2': 'max'})\n",
    "meanAuthorScore = authorP2Conso.groupby('refid').agg({'authorP2': 'mean'})\n",
    "\n",
    "authorScoring = pd.merge(maxAuthorScore,meanAuthorScore, on = \"refid\", how = \"inner\").rename(columns = {\"authorP2_x\" : \"maxAuthorScore\",\"authorP2_y\" : \"meanAuthorScore\"})\n",
    "authorScoring[\"refid\"] = authorScoring.index\n",
    "authorScoring = authorScoring.reset_index(drop = True)\n",
    "\n",
    "authorScoring[\"authorP2\"] = 0.5*authorScoring[\"maxAuthorScore\"] + 0.5*authorScoring[\"meanAuthorScore\"]\n",
    "authorScoring = authorScoring.drop(columns = [\"maxAuthorScore\",\"meanAuthorScore\"])\n",
    "\n",
    "#Integration of the variable authorP2 for datasetForScoring\n",
    "DatasetReadyForScoring = pd.merge(enhancedDatasetForScoring,authorScoring, on = \"refid\", how = \"left\")\n",
    "\n",
    "# Influence Score Computation Dataset Overview\n",
    "DatasetReadyForScoring.head()"
   ]
  },
  {
   "cell_type": "code",
   "execution_count": 19,
   "id": "a1388e36",
   "metadata": {},
   "outputs": [
    {
     "name": "stdout",
     "output_type": "stream",
     "text": [
      "Max: 368.0\n",
      "Top 25% above : 15.0\n",
      "Top 50% above: 4.0\n",
      "Top 75% above: 0.0\n"
     ]
    }
   ],
   "source": [
    "#2. Data Exploration \n",
    "    #2.1. nbQuotations variable\n",
    "q25 = DatasetReadyForScoring[\"nbQuotations\"].quantile(.25); q50 = DatasetReadyForScoring[\"nbQuotations\"].quantile(.5)\n",
    "q75 = DatasetReadyForScoring[\"nbQuotations\"].quantile(.75); q100 = DatasetReadyForScoring[\"nbQuotations\"].quantile(1)\n",
    "\n",
    "print(\"Max:\", q100 ) ; print(\"Top 25% above :\", q75 ); print(\"Top 50% above:\", q50); print(\"Top 75% above:\", q25 )"
   ]
  },
  {
   "cell_type": "code",
   "execution_count": 20,
   "id": "82245ed7",
   "metadata": {},
   "outputs": [
    {
     "name": "stdout",
     "output_type": "stream",
     "text": [
      "Max: 0.004395455124215213\n",
      "Top 25% above : 0.0005759902155885322\n",
      "Top 50% above: 0.00035052372647881015\n",
      "Top 75% above: 0.00015146889455587814\n"
     ]
    }
   ],
   "source": [
    "#2.2. Pagerank Publication\n",
    "pq25 = DatasetReadyForScoring[\"pageRankPublication\"].quantile(.25); pq50 = DatasetReadyForScoring[\"pageRankPublication\"].quantile(.5)\n",
    "pq75 = DatasetReadyForScoring[\"pageRankPublication\"].quantile(.75); pq100 = DatasetReadyForScoring[\"pageRankPublication\"].quantile(1)\n",
    "\n",
    "print(\"Max:\", pq100 ) ; print(\"Top 25% above :\", pq75 ); print(\"Top 50% above:\", pq50); print(\"Top 75% above:\", pq25 )"
   ]
  },
  {
   "cell_type": "code",
   "execution_count": 21,
   "id": "3b428cc2",
   "metadata": {},
   "outputs": [
    {
     "name": "stdout",
     "output_type": "stream",
     "text": [
      "Max: 0.004395455124215213\n",
      "Top 25% above : 0.0005759902155885322\n",
      "Top 50% above: 0.00035052372647881015\n",
      "Top 75% above: 0.00015146889455587814\n"
     ]
    }
   ],
   "source": [
    "#2.3. Author P2\n",
    "aq25 = DatasetReadyForScoring[\"authorP2\"].quantile(.25); aq50 = DatasetReadyForScoring[\"authorP2\"].quantile(.5)\n",
    "aq75 = DatasetReadyForScoring[\"authorP2\"].quantile(.75); aq100 = DatasetReadyForScoring[\"authorP2\"].quantile(1)\n",
    "    \n",
    "print(\"Max:\", pq100 ) ; print(\"Top 25% above :\", pq75 ); print(\"Top 50% above:\", pq50); print(\"Top 75% above:\", pq25 )"
   ]
  },
  {
   "cell_type": "code",
   "execution_count": 22,
   "id": "0bd3654e",
   "metadata": {},
   "outputs": [],
   "source": [
    "#3. Score computation all data by approaches\n",
    "\n",
    "########### APPROACH ONE ########### \n",
    "now = date.today() ; numberWeeks = 6\n",
    "dateThresold = now - timedelta(days = numberWeeks*7)\n",
    "\n",
    "influenceScoreData_A1 = DatasetReadyForScoring[(DatasetReadyForScoring[\"publish_time\"].isna() == False)].reset_index(drop = True)\n",
    "\n",
    "influenceScoreData_A1[\"Recency\"] = 0\n",
    "\n",
    "    #Assessing Recency of a paper\n",
    "for i in range(len(influenceScoreData_A1)):\n",
    "    try:\n",
    "        if influenceScoreData_A1[\"publish_time\"][i] > dateThresold:\n",
    "            influenceScoreData_A1[\"Recency\"][i] = 1\n",
    "        else:\n",
    "            influenceScoreData_A1[\"Recency\"][i] = 0\n",
    "    except:\n",
    "        continue\n",
    "        \n",
    "    #Compute Final Score Approach 1          \n",
    "influenceScoreData_A1[\"influenceScore\"] = 0\n",
    "\n",
    "for i in range(len(influenceScoreData_A1)):\n",
    "        if influenceScoreData_A1[\"Recency\"][i] == 1:\n",
    "            influenceScoreData_A1[\"influenceScore\"] = influenceScoreData_A1[\"authorP2\"]\n",
    "        else:\n",
    "            influenceScoreData_A1[\"influenceScore\"] = influenceScoreData_A1[\"pageRankPublication\"]\n",
    "            \n",
    "            \n",
    "########### APPROACH TWO ########### \n",
    "influenceScoreData_A2 = DatasetReadyForScoring.copy()\n",
    "\n",
    "#Compute Score for Nb_quoted and year\n",
    "\n",
    "influenceScoreData_A2[\"nbQuotationsScore\"] = 0\n",
    "influenceScoreData_A2[\"yearScore\"] = 0\n",
    "\n",
    "for i in range(len(influenceScoreData_A2)):\n",
    "    \n",
    "    #Nb_quoted\n",
    "    if influenceScoreData_A2[\"nbQuotations\"][i] < q25:\n",
    "        influenceScoreData_A2[\"nbQuotationsScore\"][i] = 0\n",
    "    elif influenceScoreData_A2[\"nbQuotations\"][i] < q50:\n",
    "        influenceScoreData_A2[\"nbQuotationsScore\"][i] = 0.25\n",
    "    elif influenceScoreData_A2[\"nbQuotations\"][i] < q75:\n",
    "        influenceScoreData_A2[\"nbQuotationsScore\"][i] = 0.5\n",
    "    else:\n",
    "        influenceScoreData_A2[\"nbQuotationsScore\"][i] = 1\n",
    "        \n",
    "    #Year\n",
    "    if influenceScoreData_A2[\"year\"][i] == 2020:\n",
    "        influenceScoreData_A2[\"yearScore\"][i] = 1\n",
    "    elif influenceScoreData_A2[\"year\"][i] == 2019:\n",
    "        influenceScoreData_A2[\"yearScore\"][i] = 0.5\n",
    "    else:\n",
    "        influenceScoreData_A2[\"yearScore\"][i] = 0\n",
    "\n",
    "influenceScoreData_A2[\"pageRankPublication_norm\"] = (influenceScoreData_A2[\"pageRankPublication\"] - influenceScoreData_A2[\"pageRankPublication\"].mean())/ influenceScoreData_A2[\"pageRankPublication\"].std()\n",
    "influenceScoreData_A2[\"authorP2_norm\"] = (influenceScoreData_A2[\"authorP2\"] - influenceScoreData_A2[\"authorP2\"].mean())/ influenceScoreData_A2[\"authorP2\"].std()\n",
    "\n",
    "\n",
    "influenceScoreData_A2[\"influenceScore\"] = 0.00\n",
    "\n",
    "for i in range(len(influenceScoreData_A2)):\n",
    "    influenceScoreData_A2[\"influenceScore\"][i] = weights_InfluenceScore[0] * influenceScoreData_A2[\"nbQuotationsScore\"][i] + weights_InfluenceScore[1] * influenceScoreData_A2[\"yearScore\"][i] + weights_InfluenceScore[2] * influenceScoreData_A2[\"pageRankPublication_norm\"][i] + weights_InfluenceScore[3] * influenceScoreData_A2[\"authorP2_norm\"][i]\n",
    "\n",
    "        \n",
    "influenceScoreData_A2 = influenceScoreData_A2.sort_values(by = \"influenceScore\", ascending = False).reset_index(drop = True)            \n",
    "            \n",
    "        \n",
    "                        \n",
    "########### APPROACH THREE ########### \n",
    "influenceScoreData_A3 = DatasetReadyForScoring.copy()\n",
    "\n",
    "influenceScoreData_A3[\"influenceScore\"] = 0.00\n",
    "\n",
    "for i in range(len(influenceScoreData_A3)):\n",
    "    \n",
    "    x1 = 0; x2 = 0; x3 = 0; x4 = 0\n",
    "    \n",
    "    #Nb_quoted\n",
    "    if influenceScoreData_A3[\"nbQuotations\"][i] < q25:\n",
    "        x1 = 0\n",
    "    elif influenceScoreData_A3[\"nbQuotations\"][i] < q50:\n",
    "        x1 = 0.25\n",
    "    elif influenceScoreData_A3[\"nbQuotations\"][i] < q75:\n",
    "        x1 = 0.5\n",
    "    else:\n",
    "        x1 = 1\n",
    "        \n",
    "    #Year\n",
    "    if influenceScoreData_A3[\"year\"][i] == 2020:\n",
    "        x2 = 1\n",
    "    elif influenceScoreData_A3[\"year\"][i] == 2019:\n",
    "        x2 = 0.5\n",
    "    else:\n",
    "        x2 = 0\n",
    "        \n",
    "    #PageRank Publication\n",
    "    if influenceScoreData_A3[\"pageRankPublication\"][i] < pq25:\n",
    "        x3 = 0\n",
    "    elif influenceScoreData_A3[\"pageRankPublication\"][i] < pq50:\n",
    "        x3 = 0.25\n",
    "    elif influenceScoreData_A3[\"pageRankPublication\"][i] < pq75:\n",
    "        x3 = 0.5\n",
    "    else:\n",
    "        x3 = 1\n",
    "        \n",
    "    #Author Scoring\n",
    "    if influenceScoreData_A3[\"authorP2\"][i] < aq25:\n",
    "        x4 = 0\n",
    "    elif influenceScoreData_A3[\"authorP2\"][i] < aq50:\n",
    "        x4 = 0.25\n",
    "    elif influenceScoreData_A3[\"authorP2\"][i] < aq75:\n",
    "        x4 = 0.5\n",
    "    else:\n",
    "        x4 = 1\n",
    "        \n",
    "    influenceScoreData_A3[\"influenceScore\"][i] = weights_InfluenceScore[0] * x1 + weights_InfluenceScore[1] * x2 + weights_InfluenceScore[2] * x3 + weights_InfluenceScore[3] * x4\n",
    "       \n",
    "influenceScoreData_A3 = influenceScoreData_A3.sort_values(by = \"influenceScore\", ascending = False).reset_index(drop = True)"
   ]
  },
  {
   "cell_type": "code",
   "execution_count": 23,
   "id": "3c654318",
   "metadata": {},
   "outputs": [],
   "source": [
    "########### DATA EXPORT - EACH PAPER ID WITH SCORE ########### \n",
    "\n",
    "#Exporting influenceScore by paper id - FIRST APPROACH\n",
    "PaperScoring_A1 = influenceScoreData_A1[[\"paper_id\",\"influenceScore\"]]\n",
    "PaperScoring_A1.to_csv(\"PaperScoring_A1.csv\", index = False)\n",
    "\n",
    "#Exporting influenceScore by paper id - SECOND APPROACH\n",
    "PaperScoring_A2 = influenceScoreData_A2[[\"paper_id\",\"influenceScore\"]]\n",
    "PaperScoring_A2.to_csv(\"PaperScoring_A2.csv\", index = False)\n",
    "\n",
    "#Exporting influenceScore by paper id - THIRD APPROACH\n",
    "PaperScoring_A3 = influenceScoreData_A3[[\"paper_id\",\"influenceScore\"]]\n",
    "PaperScoring_A3.to_csv(\"PaperScoring_A3.csv\", index = False)\n",
    "\n",
    "#Exporting final dataset with all consolidated by paper id - THIRD APPROACH\n",
    "ConsolidatedDfwithScore = pd.merge(DatasetReadyForScoring, PaperScoring_A1, on = \"paper_id\", how = \"left\") #Adding Score from approach 1\n",
    "ConsolidatedDfwithScore = pd.merge(ConsolidatedDfwithScore, PaperScoring_A2, on = \"paper_id\", how = \"inner\") #Adding Score from approach 2\n",
    "ConsolidatedDfwithScore = pd.merge(ConsolidatedDfwithScore, PaperScoring_A3, on = \"paper_id\", how = \"inner\") #Adding Score from approach 3\n",
    "ConsolidatedDfwithScore = ConsolidatedDfwithScore.rename(columns = {\"influenceScore_x\" : \"ScoreApproach1\",\"influenceScore_y\" : \"ScoreApproach2\", \"influenceScore\" : \"ScoreApproach3\" })\n",
    "\n",
    "ConsolidatedDfwithScore.to_csv(\"ConsolidatedDfwithScore.csv\", index = False)"
   ]
  },
  {
   "cell_type": "code",
   "execution_count": 24,
   "id": "798d867a",
   "metadata": {},
   "outputs": [],
   "source": [
    "#Building up the function to compute the influence score given a paper_id (possiblity to choose the approach)\n",
    "\n",
    "def articleScore(paper_id,approach = 2): #Default approach is 2\n",
    "    try:\n",
    "        if approach == 1: \n",
    "            x = influenceScoreData_A1[(influenceScoreData_A1[\"paper_id\"] == paper_id)]\n",
    "\n",
    "        elif approach == 2: \n",
    "            x = influenceScoreData_A2[(influenceScoreData_A2[\"paper_id\"] == paper_id)]\n",
    "\n",
    "        elif approach == 3: \n",
    "            x = influenceScoreData_A3[(influenceScoreData_A3[\"paper_id\"] == paper_id)]\n",
    "\n",
    "        return x.influenceScore.values[0]\n",
    "\n",
    "    except:\n",
    "        return 0\n",
    "    "
   ]
  },
  {
   "cell_type": "markdown",
   "id": "36a054a2",
   "metadata": {},
   "source": [
    "# 4. Scoring Comparison"
   ]
  },
  {
   "cell_type": "code",
   "execution_count": 25,
   "id": "804b8b5e",
   "metadata": {},
   "outputs": [
    {
     "data": {
      "image/png": "[encoded data removed]",
      "text/plain": [
       "<Figure size 2000x500 with 3 Axes>"
      ]
     },
     "metadata": {},
     "output_type": "display_data"
    }
   ],
   "source": [
    "#1. Scoring Comparison\n",
    "    #1.1. Final Score Distribution \n",
    "fig, (ax1, ax2, ax3) = plt.subplots(1,3,figsize=(20,5))\n",
    "sns.distplot(influenceScoreData_A1[\"influenceScore\"], ax = ax1).set_title('Approach 1: Influence Score Distribution')\n",
    "sns.distplot(influenceScoreData_A2[\"influenceScore\"], ax = ax2).set_title('Approach 2: Influence Score Distribution')\n",
    "sns.distplot(influenceScoreData_A3[\"influenceScore\"], ax = ax3).set_title('Approach 3: Influence Score Distribution')\n",
    "plt.show()"
   ]
  },
  {
   "cell_type": "code",
   "execution_count": 26,
   "id": "69df496b",
   "metadata": {},
   "outputs": [
    {
     "ename": "ValueError",
     "evalue": "could not convert string to float: '3/8/'",
     "output_type": "error",
     "traceback": [
      "\u001b[0;31m---------------------------------------------------------------------------\u001b[0m",
      "\u001b[0;31mValueError\u001b[0m                                Traceback (most recent call last)",
      "Input \u001b[0;32mIn [26]\u001b[0m, in \u001b[0;36m<cell line: 17>\u001b[0;34m()\u001b[0m\n\u001b[1;32m     15\u001b[0m \u001b[38;5;66;03m#Approach 1\u001b[39;00m\n\u001b[1;32m     16\u001b[0m sns\u001b[38;5;241m.\u001b[39mdistplot(top_A1[(top_A1[\u001b[38;5;124m\"\u001b[39m\u001b[38;5;124mnbQuotations\u001b[39m\u001b[38;5;124m\"\u001b[39m] \u001b[38;5;241m!=\u001b[39m \u001b[38;5;241m0\u001b[39m)][\u001b[38;5;124m\"\u001b[39m\u001b[38;5;124mnbQuotations\u001b[39m\u001b[38;5;124m\"\u001b[39m], ax \u001b[38;5;241m=\u001b[39m ax[\u001b[38;5;241m0\u001b[39m,\u001b[38;5;241m0\u001b[39m])\u001b[38;5;241m.\u001b[39mset_title(\u001b[38;5;124m'\u001b[39m\u001b[38;5;124mApproach 1 - Top \u001b[39m\u001b[38;5;124m'\u001b[39m\u001b[38;5;241m+\u001b[39m\u001b[38;5;28mstr\u001b[39m(top)\u001b[38;5;241m+\u001b[39m\u001b[38;5;124m'\u001b[39m\u001b[38;5;124m: nbQuotations Distribution\u001b[39m\u001b[38;5;124m'\u001b[39m) \n\u001b[0;32m---> 17\u001b[0m \u001b[43msns\u001b[49m\u001b[38;5;241;43m.\u001b[39;49m\u001b[43mdistplot\u001b[49m\u001b[43m(\u001b[49m\u001b[43mtop_A1\u001b[49m\u001b[43m[\u001b[49m\u001b[38;5;124;43m\"\u001b[39;49m\u001b[38;5;124;43myear\u001b[39;49m\u001b[38;5;124;43m\"\u001b[39;49m\u001b[43m]\u001b[49m\u001b[43m,\u001b[49m\u001b[43m \u001b[49m\u001b[43max\u001b[49m\u001b[43m \u001b[49m\u001b[38;5;241;43m=\u001b[39;49m\u001b[43m \u001b[49m\u001b[43max\u001b[49m\u001b[43m[\u001b[49m\u001b[38;5;241;43m0\u001b[39;49m\u001b[43m,\u001b[49m\u001b[38;5;241;43m1\u001b[39;49m\u001b[43m]\u001b[49m\u001b[43m)\u001b[49m\u001b[38;5;241m.\u001b[39mset_title(\u001b[38;5;124m'\u001b[39m\u001b[38;5;124mApproach 1 - Top \u001b[39m\u001b[38;5;124m'\u001b[39m\u001b[38;5;241m+\u001b[39m\u001b[38;5;28mstr\u001b[39m(top)\u001b[38;5;241m+\u001b[39m\u001b[38;5;124m'\u001b[39m\u001b[38;5;124m: Year Distribution\u001b[39m\u001b[38;5;124m'\u001b[39m)\n\u001b[1;32m     18\u001b[0m sns\u001b[38;5;241m.\u001b[39mdistplot(top_A1[\u001b[38;5;124m\"\u001b[39m\u001b[38;5;124mpageRankPublication\u001b[39m\u001b[38;5;124m\"\u001b[39m], ax \u001b[38;5;241m=\u001b[39m ax[\u001b[38;5;241m0\u001b[39m,\u001b[38;5;241m2\u001b[39m])\u001b[38;5;241m.\u001b[39mset_title(\u001b[38;5;124m'\u001b[39m\u001b[38;5;124mApproach 1 - Top \u001b[39m\u001b[38;5;124m'\u001b[39m\u001b[38;5;241m+\u001b[39m\u001b[38;5;28mstr\u001b[39m(top)\u001b[38;5;241m+\u001b[39m\u001b[38;5;124m'\u001b[39m\u001b[38;5;124m: Pagerank Publication Distribution\u001b[39m\u001b[38;5;124m'\u001b[39m)\n\u001b[1;32m     19\u001b[0m sns\u001b[38;5;241m.\u001b[39mdistplot(top_A1[\u001b[38;5;124m\"\u001b[39m\u001b[38;5;124mauthorP2\u001b[39m\u001b[38;5;124m\"\u001b[39m], ax \u001b[38;5;241m=\u001b[39m ax[\u001b[38;5;241m0\u001b[39m,\u001b[38;5;241m3\u001b[39m])\u001b[38;5;241m.\u001b[39mset_title(\u001b[38;5;124m'\u001b[39m\u001b[38;5;124mApproach 1 - Top \u001b[39m\u001b[38;5;124m'\u001b[39m\u001b[38;5;241m+\u001b[39m\u001b[38;5;28mstr\u001b[39m(top)\u001b[38;5;241m+\u001b[39m\u001b[38;5;124m'\u001b[39m\u001b[38;5;124m: Author Score Distribution\u001b[39m\u001b[38;5;124m'\u001b[39m)\n",
      "File \u001b[0;32m~/opt/anaconda3/lib/python3.9/site-packages/seaborn/distributions.py:2636\u001b[0m, in \u001b[0;36mdistplot\u001b[0;34m(a, bins, hist, kde, rug, fit, hist_kws, kde_kws, rug_kws, fit_kws, color, vertical, norm_hist, axlabel, label, ax, x)\u001b[0m\n\u001b[1;32m   2633\u001b[0m     a \u001b[38;5;241m=\u001b[39m x\n\u001b[1;32m   2635\u001b[0m \u001b[38;5;66;03m# Make a a 1-d float array\u001b[39;00m\n\u001b[0;32m-> 2636\u001b[0m a \u001b[38;5;241m=\u001b[39m \u001b[43mnp\u001b[49m\u001b[38;5;241;43m.\u001b[39;49m\u001b[43masarray\u001b[49m\u001b[43m(\u001b[49m\u001b[43ma\u001b[49m\u001b[43m,\u001b[49m\u001b[43m \u001b[49m\u001b[38;5;28;43mfloat\u001b[39;49m\u001b[43m)\u001b[49m\n\u001b[1;32m   2637\u001b[0m \u001b[38;5;28;01mif\u001b[39;00m a\u001b[38;5;241m.\u001b[39mndim \u001b[38;5;241m>\u001b[39m \u001b[38;5;241m1\u001b[39m:\n\u001b[1;32m   2638\u001b[0m     a \u001b[38;5;241m=\u001b[39m a\u001b[38;5;241m.\u001b[39msqueeze()\n",
      "File \u001b[0;32m~/opt/anaconda3/lib/python3.9/site-packages/pandas/core/series.py:872\u001b[0m, in \u001b[0;36mSeries.__array__\u001b[0;34m(self, dtype)\u001b[0m\n\u001b[1;32m    825\u001b[0m \u001b[38;5;28;01mdef\u001b[39;00m \u001b[38;5;21m__array__\u001b[39m(\u001b[38;5;28mself\u001b[39m, dtype: npt\u001b[38;5;241m.\u001b[39mDTypeLike \u001b[38;5;241m|\u001b[39m \u001b[38;5;28;01mNone\u001b[39;00m \u001b[38;5;241m=\u001b[39m \u001b[38;5;28;01mNone\u001b[39;00m) \u001b[38;5;241m-\u001b[39m\u001b[38;5;241m>\u001b[39m np\u001b[38;5;241m.\u001b[39mndarray:\n\u001b[1;32m    826\u001b[0m     \u001b[38;5;124;03m\"\"\"\u001b[39;00m\n\u001b[1;32m    827\u001b[0m \u001b[38;5;124;03m    Return the values as a NumPy array.\u001b[39;00m\n\u001b[1;32m    828\u001b[0m \n\u001b[0;32m   (...)\u001b[0m\n\u001b[1;32m    870\u001b[0m \u001b[38;5;124;03m          dtype='datetime64[ns]')\u001b[39;00m\n\u001b[1;32m    871\u001b[0m \u001b[38;5;124;03m    \"\"\"\u001b[39;00m\n\u001b[0;32m--> 872\u001b[0m     \u001b[38;5;28;01mreturn\u001b[39;00m \u001b[43mnp\u001b[49m\u001b[38;5;241;43m.\u001b[39;49m\u001b[43masarray\u001b[49m\u001b[43m(\u001b[49m\u001b[38;5;28;43mself\u001b[39;49m\u001b[38;5;241;43m.\u001b[39;49m\u001b[43m_values\u001b[49m\u001b[43m,\u001b[49m\u001b[43m \u001b[49m\u001b[43mdtype\u001b[49m\u001b[43m)\u001b[49m\n",
      "\u001b[0;31mValueError\u001b[0m: could not convert string to float: '3/8/'"
     ]
    },
    {
     "data": {
      "image/png": "[encoded data removed]",
      "text/plain": [
       "<Figure size 3000x1000 with 12 Axes>"
      ]
     },
     "metadata": {},
     "output_type": "display_data"
    }
   ],
   "source": [
    "    #1.2. Top 1000 for each approaches - Deep diving the characteristics for each variables\n",
    "\n",
    "top = 1000\n",
    "\n",
    "top_A1 = influenceScoreData_A1[[\"title\",\"year\", \"nbQuotations\", \"pageRankPublication\", \"authorP2\", \"influenceScore\"]].sort_values(by = \"influenceScore\", ascending = False).head(top).reset_index(drop = True)\n",
    "top_A2 = influenceScoreData_A2[[\"title\",\"year\", \"nbQuotations\", \"pageRankPublication\", \"authorP2\", \"influenceScore\"]].sort_values(by = \"influenceScore\", ascending = False).head(top).reset_index(drop = True)\n",
    "top_A3 = influenceScoreData_A3[[\"title\",\"year\", \"nbQuotations\", \"pageRankPublication\", \"authorP2\", \"influenceScore\"]].sort_values(by = \"influenceScore\", ascending = False).head(top).reset_index(drop = True)\n",
    "\n",
    "        #Distribution Visualization\n",
    "\n",
    "fig, ax = plt.subplots(3,4,figsize=(30,10))\n",
    "\n",
    "plt.subplots_adjust(left=None, bottom=None, right=None, top=None, wspace=None, hspace=0.5)\n",
    "\n",
    "#Approach 1\n",
    "sns.distplot(top_A1[(top_A1[\"nbQuotations\"] != 0)][\"nbQuotations\"], ax = ax[0,0]).set_title('Approach 1 - Top '+str(top)+': nbQuotations Distribution') \n",
    "sns.distplot(top_A1[\"year\"], ax = ax[0,1]).set_title('Approach 1 - Top '+str(top)+': Year Distribution')\n",
    "sns.distplot(top_A1[\"pageRankPublication\"], ax = ax[0,2]).set_title('Approach 1 - Top '+str(top)+': Pagerank Publication Distribution')\n",
    "sns.distplot(top_A1[\"authorP2\"], ax = ax[0,3]).set_title('Approach 1 - Top '+str(top)+': Author Score Distribution')\n",
    "\n",
    "#Approach 2\n",
    "sns.distplot(top_A2[\"nbQuotations\"], ax = ax[1,0], color=\".2\").set_title('Approach 2 - Top '+str(top)+': nbQuotations Distribution')\n",
    "sns.distplot(top_A2[\"year\"], ax = ax[1,1], color=\".2\").set_title('Approach 2 - Top '+str(top)+': Year Distribution')\n",
    "sns.distplot(top_A2[\"pageRankPublication\"], ax = ax[1,2], color=\".2\").set_title('Approach 2 - Top '+str(top)+': Pagerank Publication Distribution')\n",
    "sns.distplot(top_A2[\"authorP2\"], ax = ax[1,3], color=\".2\").set_title('Approach 2 - Top '+str(top)+': Author Score Distribution')\n",
    "\n",
    "#Approach 3\n",
    "sns.distplot(top_A3[\"nbQuotations\"], ax = ax[2,0], color=\"orange\").set_title('Approach 3 - Top '+str(top)+': nbQuotations Distribution')\n",
    "sns.distplot(top_A3[\"year\"], ax = ax[2,1], color=\"orange\").set_title('Approach 3 - Top '+str(top)+': Year Distribution')\n",
    "sns.distplot(top_A3[\"pageRankPublication\"], ax = ax[2,2], color=\"orange\").set_title('Approach 3 - Top '+str(top)+': Pagerank Publication Distribution')\n",
    "sns.distplot(top_A3[\"authorP2\"], ax = ax[2,3], color=\"orange\").set_title('Approach 3 - Top '+str(top)+': Author Score Distribution')\n",
    "\n",
    "plt.show()"
   ]
  },
  {
   "cell_type": "code",
   "execution_count": 30,
   "id": "8bdea1d0",
   "metadata": {},
   "outputs": [
    {
     "name": "stdout",
     "output_type": "stream",
     "text": [
      "% of Common papers of Approach 1 with Approach 2 : 24.9\n",
      "% of Common papers of Approach 1 with Approach 3 : 7.9\n",
      "% of Common papers of Approach 2 with Approach 3 : 5.7\n"
     ]
    }
   ],
   "source": [
    "#1.3. Does the top1000 of each approaches have common papers in their top?\n",
    "print(\"% of Common papers of Approach 1 with Approach 2 :\", round(len(pd.merge(top_A1, top_A2, how='inner', on=['title']))/top*100,2))\n",
    "print(\"% of Common papers of Approach 1 with Approach 3 :\", round(len(pd.merge(top_A1, top_A3, how='inner', on=['title']))/top*100,2))\n",
    "print(\"% of Common papers of Approach 2 with Approach 3 :\", round(len(pd.merge(top_A3, top_A2, how='inner', on=['title']))/top*100,2))"
   ]
  },
  {
   "cell_type": "code",
   "execution_count": null,
   "id": "c291bb73",
   "metadata": {},
   "outputs": [],
   "source": []
  }
 ],
 "metadata": {
  "kernelspec": {
   "display_name": "Python 3 (ipykernel)",
   "language": "python",
   "name": "python3"
  },
  "language_info": {
   "codemirror_mode": {
    "name": "ipython",
    "version": 3
   },
   "file_extension": ".py",
   "mimetype": "text/x-python",
   "name": "python",
   "nbconvert_exporter": "python",
   "pygments_lexer": "ipython3",
   "version": "3.9.13"
  }
 },
 "nbformat": 4,
 "nbformat_minor": 5
}
